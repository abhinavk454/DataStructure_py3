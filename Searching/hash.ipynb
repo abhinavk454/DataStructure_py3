{
 "cells": [
  {
   "cell_type": "markdown",
   "metadata": {},
   "source": [
    "# Simple hash function in python\n",
    "it gives O(1) complexity in searching"
   ]
  },
  {
   "cell_type": "code",
   "execution_count": 37,
   "metadata": {},
   "outputs": [],
   "source": [
    "class hashtable(object):\n",
    "    def __init__(self,value):\n",
    "        self.size=value\n",
    "        self.slot=[None]*self.size#for storing key\n",
    "        self.data=[None]*self.size\n",
    "    \n",
    "    def putdata(self,key,data):\n",
    "        indexval=self.hashfunc(key,len(self.slot))\n",
    "        if self.slot[indexval]==None:\n",
    "            self.slot[indexval]=key\n",
    "            self.data[indexval]=data\n",
    "        else:\n",
    "            nextslot=self.rehash(indexval,len(self.slot))\n",
    "            while self.slot[nextslot]!=None and self.slot[nextslot]!=key:\n",
    "                nextslot=self.rehash(nextslot,len(self.slot))\n",
    "            if self.slot[nextslot]==None:\n",
    "                self.slot[nextslot]=key\n",
    "                self.data[nextslot]=data\n",
    "            else:\n",
    "                self.data[nextslot]=data\n",
    "                \n",
    "    def getdata(self,key):\n",
    "        startindex=self.hashfunc(key,len(self.slot))\n",
    "        data=None\n",
    "        stop=False\n",
    "        found=False\n",
    "        pos=startindex\n",
    "        while self.slot[pos]!=None and not found and not stop:\n",
    "            if self.slot[pos]==key:\n",
    "                found=True\n",
    "                data=self.data[pos]\n",
    "            else:\n",
    "                pos=self.rehash(pos,len(self.slot))\n",
    "                if pos==startindex:\n",
    "                    stop=True\n",
    "        return data\n",
    "                \n",
    "    def hashfunc(self,key,size):\n",
    "        return key%size\n",
    "    \n",
    "    def rehash(self,oldhash,size):\n",
    "        return (oldhash+1)%size\n",
    "    \n",
    "    def __getitem__(self,key):\n",
    "        return self.getdata(key)\n",
    "    \n",
    "    def __setitem__(self,key,data):\n",
    "        self.putdata(key,data)"
   ]
  },
  {
   "cell_type": "code",
   "execution_count": 38,
   "metadata": {},
   "outputs": [],
   "source": [
    "h=hashtable(3)"
   ]
  },
  {
   "cell_type": "code",
   "execution_count": 39,
   "metadata": {},
   "outputs": [],
   "source": [
    "h[1]=2\n",
    "h[2]=4\n",
    "h[2]=7"
   ]
  },
  {
   "cell_type": "code",
   "execution_count": 43,
   "metadata": {},
   "outputs": [
    {
     "name": "stdout",
     "output_type": "stream",
     "text": [
      "[2, 1, 2]\n",
      "[7, 2, 4]\n"
     ]
    }
   ],
   "source": [
    "print(h.slot)\n",
    "print(h.data)"
   ]
  },
  {
   "cell_type": "code",
   "execution_count": 44,
   "metadata": {},
   "outputs": [
    {
     "name": "stdout",
     "output_type": "stream",
     "text": [
      "<__main__.hashtable object at 0x00000179E7DC0FC8>\n"
     ]
    }
   ],
   "source": [
    "print(h)"
   ]
  }
 ],
 "metadata": {
  "kernelspec": {
   "display_name": "Python 3",
   "language": "python",
   "name": "python3"
  },
  "language_info": {
   "codemirror_mode": {
    "name": "ipython",
    "version": 3
   },
   "file_extension": ".py",
   "mimetype": "text/x-python",
   "name": "python",
   "nbconvert_exporter": "python",
   "pygments_lexer": "ipython3",
   "version": "3.7.4"
  }
 },
 "nbformat": 4,
 "nbformat_minor": 2
}
